{
 "cells": [
  {
   "cell_type": "code",
   "execution_count": 12,
   "id": "7b464a0a",
   "metadata": {},
   "outputs": [],
   "source": [
    "# Import necessary libraries\n",
    "import pandas as pd\n",
    "from sklearn.tree import DecisionTreeClassifier\n",
    "from sklearn.preprocessing import LabelEncoder"
   ]
  },
  {
   "cell_type": "code",
   "execution_count": 13,
   "id": "ba42f253",
   "metadata": {},
   "outputs": [],
   "source": [
    "data = pd.read_csv('Dataset.csv',encoding = 'windows-1252')"
   ]
  },
  {
   "cell_type": "code",
   "execution_count": 14,
   "id": "2401d9b4",
   "metadata": {},
   "outputs": [
    {
     "name": "stdout",
     "output_type": "stream",
     "text": [
      "                 Name      Location    Phone_no.  Gender      Service\n",
      "0         Kushi Tyagi     Bairagarh  94670 30502  Female  Electrician\n",
      "1        Aryan Sharma    Habib Ganj  76780 61471    Male     Painting\n",
      "2       Sanjana Singh      MP Nagar  94858 94092  Female      Plumber\n",
      "3         Rohit Patel         Ashta  81171 03120    Male     Cleaning\n",
      "4         Kavya Gupta  Arera Colony  92592 33560  Female    Gardening\n",
      "..                ...           ...          ...     ...          ...\n",
      "109       Meera Reddy      MP Nagar  76508 46608  Female     Mechanic\n",
      "110  Sanjay Singhania      TT Nagar  94079 66250    Male    Gardening\n",
      "111       Tanvi Desai   Raisen Road  89112 21819  Female     Cleaning\n",
      "112               NaN           NaN          NaN     NaN          NaN\n",
      "113               NaN           NaN          NaN                  NaN\n",
      "\n",
      "[114 rows x 5 columns]\n"
     ]
    }
   ],
   "source": [
    "print(data)"
   ]
  },
  {
   "cell_type": "code",
   "execution_count": 15,
   "id": "b5b6b743",
   "metadata": {},
   "outputs": [
    {
     "data": {
      "text/plain": [
       "Name         2\n",
       "Location     2\n",
       "Phone_no.    2\n",
       "Gender       1\n",
       "Service      2\n",
       "dtype: int64"
      ]
     },
     "execution_count": 15,
     "metadata": {},
     "output_type": "execute_result"
    }
   ],
   "source": [
    "data.isnull().sum()"
   ]
  },
  {
   "cell_type": "code",
   "execution_count": 23,
   "id": "c3106228",
   "metadata": {},
   "outputs": [
    {
     "name": "stdout",
     "output_type": "stream",
     "text": [
      "                    Name      Location     Phone_no.  Gender  Service\n",
      "0            Kushi Tyagi     bairagarh   94670 30502       1        3\n",
      "1           Aryan Sharma    habib ganj   76780 61471       2        6\n",
      "2          Sanjana Singh      mp nagar   94858 94092       1        8\n",
      "3            Rohit Patel         ashta   81171 03120       2        1\n",
      "4            Kavya Gupta  arera colony   92592 33560       1        4\n",
      "..                   ...           ...           ...     ...      ...\n",
      "107         Shruti Menon        sehore   87567 43798       1        3\n",
      "108  Abhinav Chakraborty         ashta   90360 22235       2        6\n",
      "109          Meera Reddy      mp nagar   76508 46608       1        5\n",
      "110     Sanjay Singhania      tt nagar   94079 66250       2        4\n",
      "111          Tanvi Desai   raisen road   89112 21819       1        1\n",
      "\n",
      "[112 rows x 5 columns]\n"
     ]
    }
   ],
   "source": [
    "# Preprocess the data\n",
    "data = data.drop_duplicates()  # remove duplicates\n",
    "data = data.dropna()  # remove missing values\n",
    "data['Location'] = data['Location'].str.lower()  # standardize location data to lowercase\n",
    "\n",
    "print(data)"
   ]
  },
  {
   "cell_type": "code",
   "execution_count": 19,
   "id": "c9bb56bd",
   "metadata": {},
   "outputs": [
    {
     "data": {
      "text/plain": [
       "Name         0\n",
       "Location     0\n",
       "Phone_no.    0\n",
       "Gender       0\n",
       "Service      0\n",
       "dtype: int64"
      ]
     },
     "execution_count": 19,
     "metadata": {},
     "output_type": "execute_result"
    }
   ],
   "source": [
    "data.isnull().sum()"
   ]
  },
  {
   "cell_type": "code",
   "execution_count": 21,
   "id": "a7977ea6",
   "metadata": {},
   "outputs": [],
   "source": [
    "# Encode categorical data\n",
    "le = LabelEncoder()\n",
    "data['Gender'] = le.fit_transform(data['Gender'])\n",
    "data['Service'] = le.fit_transform(data['Service'])\n",
    "data['']"
   ]
  },
  {
   "cell_type": "code",
   "execution_count": 22,
   "id": "834b7b36",
   "metadata": {},
   "outputs": [
    {
     "name": "stdout",
     "output_type": "stream",
     "text": [
      "                    Name      Location     Phone_no.  Gender  Service\n",
      "0            Kushi Tyagi     bairagarh   94670 30502       1        3\n",
      "1           Aryan Sharma    habib ganj   76780 61471       2        6\n",
      "2          Sanjana Singh      mp nagar   94858 94092       1        8\n",
      "3            Rohit Patel         ashta   81171 03120       2        1\n",
      "4            Kavya Gupta  arera colony   92592 33560       1        4\n",
      "..                   ...           ...           ...     ...      ...\n",
      "107         Shruti Menon        sehore   87567 43798       1        3\n",
      "108  Abhinav Chakraborty         ashta   90360 22235       2        6\n",
      "109          Meera Reddy      mp nagar   76508 46608       1        5\n",
      "110     Sanjay Singhania      tt nagar   94079 66250       2        4\n",
      "111          Tanvi Desai   raisen road   89112 21819       1        1\n",
      "\n",
      "[112 rows x 5 columns]\n"
     ]
    }
   ],
   "source": [
    "print(data)"
   ]
  },
  {
   "cell_type": "code",
   "execution_count": null,
   "id": "4133a8b0",
   "metadata": {},
   "outputs": [],
   "source": []
  }
 ],
 "metadata": {
  "kernelspec": {
   "display_name": "Python 3 (ipykernel)",
   "language": "python",
   "name": "python3"
  },
  "language_info": {
   "codemirror_mode": {
    "name": "ipython",
    "version": 3
   },
   "file_extension": ".py",
   "mimetype": "text/x-python",
   "name": "python",
   "nbconvert_exporter": "python",
   "pygments_lexer": "ipython3",
   "version": "3.9.13"
  }
 },
 "nbformat": 4,
 "nbformat_minor": 5
}
